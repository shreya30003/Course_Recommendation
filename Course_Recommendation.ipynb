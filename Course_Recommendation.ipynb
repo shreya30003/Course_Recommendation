{
 "cells": [
  {
   "cell_type": "markdown",
   "metadata": {},
   "source": [
    "## Building a Course Recommendation System using TF-IDF Vectorization and Cosine Similarity"
   ]
  },
  {
   "cell_type": "markdown",
   "metadata": {},
   "source": [
    "### Import the necessary libraries and read the dataset"
   ]
  },
  {
   "cell_type": "code",
   "execution_count": 1,
   "metadata": {},
   "outputs": [],
   "source": [
    "import pandas as pd \n",
    "from sklearn.feature_extraction.text import TfidfVectorizer\n",
    "from sklearn.metrics.pairwise import cosine_similarity\n",
    "from IPython.display import display"
   ]
  },
  {
   "cell_type": "code",
   "execution_count": 2,
   "metadata": {},
   "outputs": [],
   "source": [
    "df = pd.read_excel(r'Dataset.xlsx')"
   ]
  },
  {
   "cell_type": "code",
   "execution_count": 3,
   "metadata": {},
   "outputs": [
    {
     "data": {
      "text/html": [
       "<div>\n",
       "<style scoped>\n",
       "    .dataframe tbody tr th:only-of-type {\n",
       "        vertical-align: middle;\n",
       "    }\n",
       "\n",
       "    .dataframe tbody tr th {\n",
       "        vertical-align: top;\n",
       "    }\n",
       "\n",
       "    .dataframe thead th {\n",
       "        text-align: right;\n",
       "    }\n",
       "</style>\n",
       "<table border=\"1\" class=\"dataframe\">\n",
       "  <thead>\n",
       "    <tr style=\"text-align: right;\">\n",
       "      <th></th>\n",
       "      <th>What is your name?</th>\n",
       "      <th>What is your gender?</th>\n",
       "      <th>What was your course in UG?</th>\n",
       "      <th>What is your UG specialization? Major Subject (Eg, Mathematics)</th>\n",
       "      <th>What are your interests?</th>\n",
       "      <th>What are your skills ? (Select multiple if necessary)</th>\n",
       "      <th>What was the average CGPA or Percentage obtained in under graduation?</th>\n",
       "      <th>Did you do any certification courses additionally?</th>\n",
       "      <th>If yes, please specify your certificate course title.</th>\n",
       "      <th>Are you working?</th>\n",
       "      <th>If yes, then what is/was your first Job title in your current field of work? If Not applicable, write NA.</th>\n",
       "      <th>Have you done masters after undergraduation? If yes, mention your field of masters.(Eg, Masters in Mathematics)</th>\n",
       "    </tr>\n",
       "  </thead>\n",
       "  <tbody>\n",
       "    <tr>\n",
       "      <th>0</th>\n",
       "      <td>A.Uha Priya</td>\n",
       "      <td>Female</td>\n",
       "      <td>B.Sc</td>\n",
       "      <td>Computer Applications</td>\n",
       "      <td>Cloud computing</td>\n",
       "      <td>Python,SQL,Java</td>\n",
       "      <td>85</td>\n",
       "      <td>Yes</td>\n",
       "      <td>Linux,Git</td>\n",
       "      <td>Yes</td>\n",
       "      <td>Software</td>\n",
       "      <td>MCA</td>\n",
       "    </tr>\n",
       "    <tr>\n",
       "      <th>1</th>\n",
       "      <td>Aadil</td>\n",
       "      <td>Male</td>\n",
       "      <td>B.E</td>\n",
       "      <td>Computer Science Engineering</td>\n",
       "      <td>TechNology</td>\n",
       "      <td>Critical Thinking, Analytic Thinking, SQL, Pro...</td>\n",
       "      <td>66.5</td>\n",
       "      <td>Yes</td>\n",
       "      <td>Microsoft certification</td>\n",
       "      <td>Yes</td>\n",
       "      <td>Computer Software Engineer</td>\n",
       "      <td>No</td>\n",
       "    </tr>\n",
       "    <tr>\n",
       "      <th>2</th>\n",
       "      <td>Aakriti</td>\n",
       "      <td>Female</td>\n",
       "      <td>BA</td>\n",
       "      <td>Psychology</td>\n",
       "      <td>Understand human behaviour</td>\n",
       "      <td>People management,Communication skills</td>\n",
       "      <td>64.6</td>\n",
       "      <td>Yes</td>\n",
       "      <td>Resilience psychology</td>\n",
       "      <td>No</td>\n",
       "      <td>No</td>\n",
       "      <td>No</td>\n",
       "    </tr>\n",
       "    <tr>\n",
       "      <th>3</th>\n",
       "      <td>Aanchal sharma</td>\n",
       "      <td>Female</td>\n",
       "      <td>MBA</td>\n",
       "      <td>Commerce</td>\n",
       "      <td>Sales/Marketing,Trading,Understand human behav...</td>\n",
       "      <td>Accounting Skills,Critical Thinking</td>\n",
       "      <td>75.525</td>\n",
       "      <td>No</td>\n",
       "      <td>No</td>\n",
       "      <td>Yes</td>\n",
       "      <td>Relationships manager</td>\n",
       "      <td>No</td>\n",
       "    </tr>\n",
       "    <tr>\n",
       "      <th>4</th>\n",
       "      <td>Aangkeeta Sarkar</td>\n",
       "      <td>Female</td>\n",
       "      <td>B.Tech</td>\n",
       "      <td>Instrumentation Engineering</td>\n",
       "      <td>TechNology</td>\n",
       "      <td>\\nPLC Allen Bradley,PLC Ladder Logic,LabVIEW,B...</td>\n",
       "      <td>70.68</td>\n",
       "      <td>Yes</td>\n",
       "      <td>Extreme Productivity (Blinkist Summary)</td>\n",
       "      <td>Yes</td>\n",
       "      <td>Plant Instrumentation Engineer</td>\n",
       "      <td>No</td>\n",
       "    </tr>\n",
       "  </tbody>\n",
       "</table>\n",
       "</div>"
      ],
      "text/plain": [
       "  What is your name? What is your gender? What was your course in UG?  \\\n",
       "0        A.Uha Priya               Female                        B.Sc   \n",
       "1              Aadil                 Male                         B.E   \n",
       "2            Aakriti               Female                          BA   \n",
       "3     Aanchal sharma               Female                         MBA   \n",
       "4   Aangkeeta Sarkar               Female                      B.Tech   \n",
       "\n",
       "  What is your UG specialization? Major Subject (Eg, Mathematics)  \\\n",
       "0                              Computer Applications                \n",
       "1                       Computer Science Engineering                \n",
       "2                                         Psychology                \n",
       "3                                           Commerce                \n",
       "4                        Instrumentation Engineering                \n",
       "\n",
       "                            What are your interests?  \\\n",
       "0                                    Cloud computing   \n",
       "1                                         TechNology   \n",
       "2                         Understand human behaviour   \n",
       "3  Sales/Marketing,Trading,Understand human behav...   \n",
       "4                                         TechNology   \n",
       "\n",
       "  What are your skills ? (Select multiple if necessary)  \\\n",
       "0                                    Python,SQL,Java      \n",
       "1  Critical Thinking, Analytic Thinking, SQL, Pro...      \n",
       "2             People management,Communication skills      \n",
       "3                Accounting Skills,Critical Thinking      \n",
       "4  \\nPLC Allen Bradley,PLC Ladder Logic,LabVIEW,B...      \n",
       "\n",
       "  What was the average CGPA or Percentage obtained in under graduation?  \\\n",
       "0                                                 85                      \n",
       "1                                               66.5                      \n",
       "2                                               64.6                      \n",
       "3                                             75.525                      \n",
       "4                                              70.68                      \n",
       "\n",
       "  Did you do any certification courses additionally?  \\\n",
       "0                                                Yes   \n",
       "1                                                Yes   \n",
       "2                                                Yes   \n",
       "3                                                 No   \n",
       "4                                                Yes   \n",
       "\n",
       "  If yes, please specify your certificate course title. Are you working?  \\\n",
       "0                                          Linux,Git                 Yes   \n",
       "1                           Microsoft certification                  Yes   \n",
       "2                              Resilience psychology                  No   \n",
       "3                                                 No                 Yes   \n",
       "4            Extreme Productivity (Blinkist Summary)                 Yes   \n",
       "\n",
       "  If yes, then what is/was your first Job title in your current field of work? If Not applicable, write NA.                 \\\n",
       "0                                           Software                                                                         \n",
       "1                         Computer Software Engineer                                                                         \n",
       "2                                                 No                                                                         \n",
       "3                              Relationships manager                                                                         \n",
       "4                     Plant Instrumentation Engineer                                                                         \n",
       "\n",
       "  Have you done masters after undergraduation? If yes, mention your field of masters.(Eg, Masters in Mathematics)  \n",
       "0                                                MCA                                                               \n",
       "1                                                 No                                                               \n",
       "2                                                 No                                                               \n",
       "3                                                 No                                                               \n",
       "4                                                 No                                                               "
      ]
     },
     "execution_count": 3,
     "metadata": {},
     "output_type": "execute_result"
    }
   ],
   "source": [
    "df.head()"
   ]
  },
  {
   "cell_type": "markdown",
   "metadata": {},
   "source": [
    "### Preprocessing the data and EDA"
   ]
  },
  {
   "cell_type": "code",
   "execution_count": 4,
   "metadata": {},
   "outputs": [
    {
     "data": {
      "text/plain": [
       "Index(['What is your name?', 'What is your gender?',\n",
       "       'What was your course in UG?',\n",
       "       'What is your UG specialization? Major Subject (Eg, Mathematics)',\n",
       "       'What are your interests?',\n",
       "       'What are your skills ? (Select multiple if necessary)',\n",
       "       'What was the average CGPA or Percentage obtained in under graduation?',\n",
       "       'Did you do any certification courses additionally?',\n",
       "       'If yes, please specify your certificate course title.',\n",
       "       'Are you working?',\n",
       "       'If yes, then what is/was your first Job title in your current field of work? If Not applicable, write NA.               ',\n",
       "       'Have you done masters after undergraduation? If yes, mention your field of masters.(Eg, Masters in Mathematics)'],\n",
       "      dtype='object')"
      ]
     },
     "execution_count": 4,
     "metadata": {},
     "output_type": "execute_result"
    }
   ],
   "source": [
    "df.columns"
   ]
  },
  {
   "cell_type": "code",
   "execution_count": 5,
   "metadata": {},
   "outputs": [],
   "source": [
    "df.drop('What is your name?', axis=1, inplace=True)\n",
    "df.drop('What is your gender?', axis=1, inplace=True)\n",
    "df.drop('What was your course in UG?', axis=1, inplace=True)\n",
    "df.drop('What was the average CGPA or Percentage obtained in under graduation?', axis=1, inplace=True)"
   ]
  },
  {
   "cell_type": "code",
   "execution_count": 6,
   "metadata": {},
   "outputs": [],
   "source": [
    "df.rename(columns = {df.columns[0] :'UG_Course', df.columns[1] :'Interests',df.columns[2] :'Skills', df.columns[3] :'Certifications', df.columns[4] :'Certification_Name', df.columns[5] :'Working', df.columns[6]:'Job_Title', df.columns[7]:'Masters'},inplace = True)"
   ]
  },
  {
   "cell_type": "code",
   "execution_count": 7,
   "metadata": {},
   "outputs": [
    {
     "data": {
      "text/plain": [
       "UG_Course             0\n",
       "Interests             0\n",
       "Skills                0\n",
       "Certifications        0\n",
       "Certification_Name    0\n",
       "Working               0\n",
       "Job_Title             0\n",
       "Masters               0\n",
       "dtype: int64"
      ]
     },
     "execution_count": 7,
     "metadata": {},
     "output_type": "execute_result"
    }
   ],
   "source": [
    "df.isnull().sum()"
   ]
  },
  {
   "cell_type": "code",
   "execution_count": 8,
   "metadata": {},
   "outputs": [],
   "source": [
    "df[\"Skills\"] = df[\"Skills\"].astype(str)"
   ]
  },
  {
   "cell_type": "code",
   "execution_count": 9,
   "metadata": {},
   "outputs": [
    {
     "name": "stdout",
     "output_type": "stream",
     "text": [
      "<class 'pandas.core.frame.DataFrame'>\n",
      "RangeIndex: 1193 entries, 0 to 1192\n",
      "Data columns (total 8 columns):\n",
      " #   Column              Non-Null Count  Dtype \n",
      "---  ------              --------------  ----- \n",
      " 0   UG_Course           1193 non-null   object\n",
      " 1   Interests           1193 non-null   object\n",
      " 2   Skills              1193 non-null   object\n",
      " 3   Certifications      1193 non-null   object\n",
      " 4   Certification_Name  1193 non-null   object\n",
      " 5   Working             1193 non-null   object\n",
      " 6   Job_Title           1193 non-null   object\n",
      " 7   Masters             1193 non-null   object\n",
      "dtypes: object(8)\n",
      "memory usage: 74.7+ KB\n"
     ]
    }
   ],
   "source": [
    "df.info()"
   ]
  },
  {
   "cell_type": "code",
   "execution_count": 10,
   "metadata": {},
   "outputs": [
    {
     "data": {
      "text/html": [
       "<div>\n",
       "<style scoped>\n",
       "    .dataframe tbody tr th:only-of-type {\n",
       "        vertical-align: middle;\n",
       "    }\n",
       "\n",
       "    .dataframe tbody tr th {\n",
       "        vertical-align: top;\n",
       "    }\n",
       "\n",
       "    .dataframe thead th {\n",
       "        text-align: right;\n",
       "    }\n",
       "</style>\n",
       "<table border=\"1\" class=\"dataframe\">\n",
       "  <thead>\n",
       "    <tr style=\"text-align: right;\">\n",
       "      <th></th>\n",
       "      <th>UG_Course</th>\n",
       "      <th>Interests</th>\n",
       "      <th>Skills</th>\n",
       "      <th>Certifications</th>\n",
       "      <th>Certification_Name</th>\n",
       "      <th>Working</th>\n",
       "      <th>Job_Title</th>\n",
       "      <th>Masters</th>\n",
       "    </tr>\n",
       "  </thead>\n",
       "  <tbody>\n",
       "    <tr>\n",
       "      <th>count</th>\n",
       "      <td>1193</td>\n",
       "      <td>1193</td>\n",
       "      <td>1193</td>\n",
       "      <td>1193</td>\n",
       "      <td>1193</td>\n",
       "      <td>1193</td>\n",
       "      <td>1193</td>\n",
       "      <td>1193</td>\n",
       "    </tr>\n",
       "    <tr>\n",
       "      <th>unique</th>\n",
       "      <td>290</td>\n",
       "      <td>612</td>\n",
       "      <td>1005</td>\n",
       "      <td>2</td>\n",
       "      <td>523</td>\n",
       "      <td>2</td>\n",
       "      <td>483</td>\n",
       "      <td>237</td>\n",
       "    </tr>\n",
       "    <tr>\n",
       "      <th>top</th>\n",
       "      <td>Computer Science Engineering</td>\n",
       "      <td>TechNology</td>\n",
       "      <td>No</td>\n",
       "      <td>Yes</td>\n",
       "      <td>No</td>\n",
       "      <td>Yes</td>\n",
       "      <td>No</td>\n",
       "      <td>No</td>\n",
       "    </tr>\n",
       "    <tr>\n",
       "      <th>freq</th>\n",
       "      <td>174</td>\n",
       "      <td>132</td>\n",
       "      <td>45</td>\n",
       "      <td>611</td>\n",
       "      <td>579</td>\n",
       "      <td>712</td>\n",
       "      <td>295</td>\n",
       "      <td>724</td>\n",
       "    </tr>\n",
       "  </tbody>\n",
       "</table>\n",
       "</div>"
      ],
      "text/plain": [
       "                           UG_Course   Interests Skills Certifications  \\\n",
       "count                           1193        1193   1193           1193   \n",
       "unique                           290         612   1005              2   \n",
       "top     Computer Science Engineering  TechNology     No            Yes   \n",
       "freq                             174         132     45            611   \n",
       "\n",
       "       Certification_Name Working Job_Title Masters  \n",
       "count                1193    1193      1193    1193  \n",
       "unique                523       2       483     237  \n",
       "top                    No     Yes        No      No  \n",
       "freq                  579     712       295     724  "
      ]
     },
     "execution_count": 10,
     "metadata": {},
     "output_type": "execute_result"
    }
   ],
   "source": [
    "df.describe()"
   ]
  },
  {
   "cell_type": "code",
   "execution_count": 11,
   "metadata": {},
   "outputs": [
    {
     "data": {
      "text/plain": [
       "array(['Computer Applications', 'Computer Science Engineering',\n",
       "       'Psychology', 'Commerce', 'Instrumentation Engineering',\n",
       "       'Physics ', 'Accountancy', 'Automobile Engineering', 'Marketing ',\n",
       "       'Automation', 'Science,Maths, Engineering subject',\n",
       "       'Mechanical Engineering', 'Electrical and Electronics Engineering',\n",
       "       'Structural Engineeeing ', 'Mining', 'Accountancy ', 'C language',\n",
       "       'C,c++, java', 'Civil Engineering', 'Management',\n",
       "       'Electronics and Communication Engineering', 'Sales and marketing',\n",
       "       'EcoNomics', 'Computer science and business system', 'Pharmacy',\n",
       "       'Interior design', 'Information TechNology', 'Chemistry',\n",
       "       'Commerce ', 'Physics', 'Statistics ', 'Information TechNAlogy',\n",
       "       'Industrial Engineering ', 'High pressure die casting ',\n",
       "       'Accounting&Finance', 'Computer Science Engineering ',\n",
       "       'Computer Science ', 'Mathematics',\n",
       "       'Accounting(business and management) ', 'Sales and Marketing',\n",
       "       'Computer science ', 'Civil Engineering ', 'Statistics',\n",
       "       'Criminal manual', 'Mechanical engineering ', 'Agriculture',\n",
       "       'Company law', 'Electrical Machines', 'Finance', 'BiotechNology',\n",
       "       'Data Structures & Algorithm', 'ManagementÃŠ', 'Law', 'Zoology',\n",
       "       'constitution',\n",
       "       'Principal of programming language with C, MS Office Management Tools, Computer Organization, Mathematics, English.',\n",
       "       'Microbiology', 'Taxation', 'Business Administration', 'Taxation ',\n",
       "       'Electronics & Telecom.', 'History ', 'Thermal engineering',\n",
       "       'Math', 'Hospitality', 'Artificial intelligence ', 'BiotechNAlogy',\n",
       "       'PR', 'Political science ', 'Human Resource', 'Marketing',\n",
       "       'Mechanical Engineering ', 'Computer Science and Engineering',\n",
       "       'Electronics and communication engineering', 'Civil engineering',\n",
       "       'Mechanical ', 'Human resources ', 'Computers Science', 'MCA',\n",
       "       'General', 'Communication & Political Science',\n",
       "       'Structural analysis ', 'Computers', 'cost and work accounting',\n",
       "       'English ', 'Production Engineering', 'Transportation Engineering',\n",
       "       'Computer Application ', 'Java', 'Electronics and communication ',\n",
       "       'Civil', 'B.E complete', 'Engineering', 'History',\n",
       "       'Electronics and Communication Engineering ', 'Accounts', 'ZBC',\n",
       "       'English', 'Computer Applications ', 'Costing',\n",
       "       'Automobile engineering ', 'Electronics & Telecommunications ',\n",
       "       'Programming', 'BiotechNAlogy ',\n",
       "       'Computer ( Languages like  .. C, C++ ,  Java,  C# ) ',\n",
       "       'Dental surgeon ', 'Biology', 'IRPM', 'Mathematics ',\n",
       "       'Computer Software Engineer', 'Finance ', 'Arts', 'Journalism',\n",
       "       'Instrumentation', 'Java Programming & Website Designing',\n",
       "       'MATHEMATICS', 'Mathematics, Statistics and Computer science',\n",
       "       'Programing language', 'EcoNAmics', 'Information Science',\n",
       "       'Vedio editing ', 'Computer Engineering ',\n",
       "       'C, C++, Java, SQL, MySQL, Unix, HTML, Mathematics, Statistics',\n",
       "       'Botany', 'Accounting ', 'Cse',\n",
       "       'Building material and construction ', 'Computer applications ',\n",
       "       'Electronics and Instrumentation Engineering', 'MathematicsÃŠ',\n",
       "       'Finance and HRÃŠ', 'Sales & Marketing', 'electronic ', 'ECR',\n",
       "       'CSIT', 'Information TechNAlogy (IT)', 'PHYSICS ', 'Java ',\n",
       "       'electrical engineering',\n",
       "       'Electrical, Electronics and Power Engineering ', 'Insurance ',\n",
       "       'Geography ', 'EcoNAmics ', 'Computers ',\n",
       "       'Electronics & Telecommunications Engineering',\n",
       "       'Computer Science & Engineering', 'Engineering graphics',\n",
       "       'Chemical engineering', 'Political science', 'Computer', 'Oops',\n",
       "       'Taxation & Law', 'Mechanical(CAD/CAM) ',\n",
       "       'Electrical and Electronics', 'Agriculture Engineering ', 'BPS',\n",
       "       'Home science', 'Engineering ', 'Accounting',\n",
       "       'Electrical engineering ', 'Data science', 'Medical electronics',\n",
       "       'computer science', 'Principles of Programming Through C Language',\n",
       "       'Education', 'Digital Signal Processing', 'Fashion designing ',\n",
       "       'Computer Science  Engineering', 'C programming ', 'BA',\n",
       "       'Automobile ', 'Marketing analyticsÃŠ',\n",
       "       'Renual resources and energy', 'Electrical sciences',\n",
       "       'Computer Science', 'data analysis', 'MM', 'Applied Geology ',\n",
       "       'finances', 'Electrical Engineering', 'Engineerinh', 'C++',\n",
       "       'Chemical Engineering ', 'AutoCAD', 'Design',\n",
       "       'Accounting designing', 'Dietician',\n",
       "       'Reporting, Anchoring, Tv Journalism, Advertising & Radio ',\n",
       "       'Aerospace engineering', 'Aerospace Engineering',\n",
       "       'Mobile communications ', 'Electrical Engineering ', 'Animation',\n",
       "       'pharma D', 'Hindi Education and Geography ',\n",
       "       'Software engineering', 'Kathak dance', 'Biological sciences ',\n",
       "       'Criminal justice', 'Aeronautical', 'General studies ',\n",
       "       'Mass communication', 'Computer engineering',\n",
       "       'Genetic Engineering', 'Hospital administration', ' Management',\n",
       "       'Architecture', 'Maths ', 'Dynamics of machine', 'Coding ',\n",
       "       'business administration', 'Instrumention Engineering',\n",
       "       'Accountancy & Finance', 'Electrical and electronic Engineering',\n",
       "       'Electronics and communication Engineering',\n",
       "       'Electronics n Telecommunication', 'Chemical Engineering',\n",
       "       'Bcom-Accounting', 'Political Science', 'Human Resources',\n",
       "       'Data science ', 'Maths', 'Construction', 'BA in Home Science',\n",
       "       'English, ecoNAmics', 'Python ', 'B.com',\n",
       "       'Principal of business management', 'English literature ', 'Coal',\n",
       "       'Civil structural', 'Mechania', 'Data Warehousing & Data Mining',\n",
       "       'M.com(Management and marketing)', 'general', 'Sociology',\n",
       "       'Literature', 'BBA ', 'Plastic Design', 'EcoNAmy ',\n",
       "       'home science .',\n",
       "       'Accounts,public finance,ecoNAmics,business studies', 'Science ',\n",
       "       'Science', 'Electronics ', 'Mechanical Machines ',\n",
       "       'Bio techNology', 'CEE', 'Advertising',\n",
       "       'Elections and telecommunication engineering',\n",
       "       'Software Development', 'Electronics and Telecommunication',\n",
       "       'Financial Analyst', 'Office management', 'Entc', 'Tamil',\n",
       "       'Programs', 'Electronic and Communication Engineering',\n",
       "       'Journalism ', 'Electronics and telecommunication',\n",
       "       'Microbiology genetics', 'Pharmaceutical sciences', 'Mining ',\n",
       "       'B.tech', 'History, sociology,', 'Accounts and Statistics',\n",
       "       'Electronic and telecommunications ', 'Accounting  and Finance',\n",
       "       'C, C++, java, SQL, MYSql, Unix, Html, Mathematics, Statistics',\n",
       "       'Business', 'Electronics and telecommunication ',\n",
       "       'Media Management', 'Structure ',\n",
       "       'Electronics and computer engineering', 'Business Studies',\n",
       "       'Computer science and engineering ', 'marketing',\n",
       "       ' Computer Applications', 'Physics, Chemistry and Mathematics',\n",
       "       'NAthing ', 'Graphics', 'Mechanical enggineering',\n",
       "       'Agriculture BiotechNAlogy', 'Information TechNAlogy ',\n",
       "       'computers', 'Statistics,Mathematics,Computers',\n",
       "       'Business Management ', 'Bbb', 'Coding',\n",
       "       'Animation & Visual Effects'], dtype=object)"
      ]
     },
     "execution_count": 11,
     "metadata": {},
     "output_type": "execute_result"
    }
   ],
   "source": [
    "df['UG_Course'].unique()"
   ]
  },
  {
   "cell_type": "code",
   "execution_count": 12,
   "metadata": {},
   "outputs": [
    {
     "data": {
      "text/plain": [
       "Index(['UG_Course', 'Interests', 'Skills', 'Certifications',\n",
       "       'Certification_Name', 'Working', 'Job_Title', 'Masters'],\n",
       "      dtype='object')"
      ]
     },
     "execution_count": 12,
     "metadata": {},
     "output_type": "execute_result"
    }
   ],
   "source": [
    "df.columns"
   ]
  },
  {
   "cell_type": "markdown",
   "metadata": {},
   "source": [
    "### Building Recommendation System"
   ]
  },
  {
   "cell_type": "code",
   "execution_count": 13,
   "metadata": {},
   "outputs": [],
   "source": [
    "def recommend_course(d):\n",
    "    global df\n",
    "    d = pd.DataFrame([d])\n",
    "    df = pd.concat([df, d], axis=0, ignore_index=True) # Adds the new data row to the dataframe\n",
    "    # display(df.columns) # ['UG_Course', 'Interests', 'Skills', 'Certifications', 'Certification_Name', 'Working', 'Job_Title', 'Masters', 'Factors']\n",
    "    \n",
    "    df['Interests'] = df['Interests'].astype(str)\n",
    "    df['Skills'] = df['Skills'].astype(str)\n",
    "    df['Factors'] = df[['Interests','Skills']].apply(\"-\".join, axis=1) # Combines relevant columns into a single column  \n",
    "    \n",
    "    for i in range (len(df)):\n",
    "        has_certification = str(df.Certifications[i])\n",
    "        certification_name = str(df.Certification_Name[i])\n",
    "        if has_certification.startswith('Y') == True:\n",
    "            df.loc[i, 'Factors'] = df.loc[i, 'Factors'] + '-' + certification_name\n",
    "        i = i+1\n",
    "        \n",
    "    for i in range (len(df)):\n",
    "        is_working = str(df.Working[i])\n",
    "        job_title = str(df.Job_Title[i])\n",
    "        if is_working.startswith('Y') == True:\n",
    "            df.loc[i, 'Factors'] = df.loc[i, 'Factors'] + '-' + job_title      \n",
    "        i = i + 1 \n",
    "    \n",
    "    for i in range(len(df)):\n",
    "        pursuing_masters = str(df.Masters[i])\n",
    "        if pursuing_masters.startswith('N') == True:\n",
    "            continue\n",
    "        else:\n",
    "            df.loc[i, 'Factors'] = df.loc[i, 'Factors'] + '-' + pursuing_masters\n",
    "        i = i + 1\n",
    "        \n",
    "    df_f = df.Factors # Extracts the Factors column from the dataframe\n",
    "    df_f.replace(\"[^a-zA-Z]\",\" \",regex=True, inplace=True) # Remove numerical values and symbols from the combined column\n",
    "    df_f = df_f.to_frame()  # Converts the series to a dataframe\n",
    "    df_f.columns = ['Factors'] # Renames the column to Factors\n",
    "    \n",
    "    # print(df_f['Factors'].isnull().sum())  # Checks for null values in the Factors column\n",
    "    \n",
    "    # https://mungingdata.files.wordpress.com/2017/11/tfidf.png?w=640\n",
    "    tf_idf = TfidfVectorizer(stop_words = \"english\") # Removes common words from the English language\n",
    "    tfidf_matrix = tf_idf.fit_transform(df_f[\"Factors\"])  # Transforms the Factors column into a matrix\n",
    "    # print(tf_idf_matrix.shape)  # Prints the shape of the matrix - (1194,1306)\n",
    "    tf_idf_matrix_df = pd.DataFrame.sparse.from_spmatrix(tfidf_matrix)\n",
    "    # Converts the matrix to a dataframe\n",
    "    # display(tf_idf_matrix_df)\n",
    "    df_final = tf_idf_matrix_df\n",
    "    \n",
    "    y = df_final.iloc[:-1,:]  # Extracts all rows except the last one\n",
    "    \n",
    "    # print(y.shape)    \n",
    "    \n",
    "    # Cosine Similarity - https://www.youtube.com/watch?v=e9U0QAFbfLI\n",
    "    similarity_matrix = cosine_similarity(df_final.iloc[[-1],:],y) # Computes the cosine similarity between the last row and all other rows\n",
    "    similarity_matrix_df = pd.DataFrame(similarity_matrix)  # Converts the matrix to a dataframe\n",
    "    # display(similarity_matrix_df)  # 1 row × 1194 columns\n",
    "    \n",
    "    # print(similarity_matrix[0]) # 1st row of the similarity matrix\n",
    "    sim_scores = list(enumerate(similarity_matrix[0]))\n",
    "    sim_scores = sorted(sim_scores, key=lambda x:x[1], reverse = True)  # Sorts the scores in descending order\n",
    "    # print(sim_scores)\n",
    "    \n",
    "    similarity_idx, similarity_scores  =  [i[0] for i in sim_scores], [i[1] for i in sim_scores]\n",
    "    # Extracts the index and score from the similarity scores\n",
    "    \n",
    "    # Create an empty dataframe with UG_Course and Score columns    \n",
    "    recommended_courses = pd.DataFrame(columns=[\"UG_Course\", \"Score\"])\n",
    "    recommended_courses[\"UG_Course\"] = df.loc[similarity_idx, \"UG_Course\"]\n",
    "    #  Assigns the UG_Course values from the original DataFrame df based on the indices (sim_idx) that were sorted by similarity scores.\n",
    "    # display(recommended_courses)\n",
    "    \n",
    "    recommended_courses[\"Score\"] = similarity_scores  # Assigns the similarity scores to the Score column\n",
    "    \n",
    "    recommended_courses = recommended_courses.loc[(recommended_courses.UG_Course !='')] # Filters out empty values\n",
    "    recommended_courses = recommended_courses.drop_duplicates(subset='UG_Course', keep=\"first\") # Drops duplicate values\n",
    "    # display(recommended_courses)\n",
    "    \n",
    "    # First 5 recommended courses    \n",
    "    course_recommendations = recommended_courses.iloc[0:5,:]\n",
    "    course_recommendations.reset_index(inplace = True)\n",
    "    course_recommendation = course_recommendations['UG_Course'].values.tolist()\n",
    "    \n",
    "    return course_recommendation"
   ]
  },
  {
   "cell_type": "code",
   "execution_count": 14,
   "metadata": {},
   "outputs": [
    {
     "name": "stdout",
     "output_type": "stream",
     "text": [
      "Enter your details :\n",
      "Enter your name :  Shreya\n",
      "Enter your gender :  Female\n",
      "Enter your interests : Coding, Maths\n",
      "Enter your skills : Linux, Java\n",
      "Did you do any certification courses additionally? : No\n",
      "Are you currently working or have you been employed before? :  No\n",
      "Are you currently pursuing masters or have you persued higher education before : No\n"
     ]
    }
   ],
   "source": [
    "d = {}\n",
    "\n",
    "# Gather user details\n",
    "print(\"Enter your details :\")\n",
    "name = input(\"Enter your name :  \")\n",
    "gender = input(\"Enter your gender :  \")\n",
    "d['UG_Course'] = ''\n",
    "d['Interest'] = input(\"Enter your interests : \")\n",
    "d['Skills'] = input(\"Enter your skills : \")\n",
    "\n",
    "d['Certification'] = input(\"Did you do any certification courses additionally? : \")\n",
    "if d['Certification'].lower() == 'yes':\n",
    "    d['Certificate_name'] = input(\"Specify your certificate course title: \")\n",
    "\n",
    "d['Working'] = input(\"Are you currently working or have you been employed before? :  \")\n",
    "if d['Working'].lower() == 'yes':\n",
    "    d['JobTitle'] = input(\"Enter your job title: \")\n",
    "    \n",
    "d['Masters'] = input(\"Are you currently pursuing masters or have you persued higher education before : \")"
   ]
  },
  {
   "cell_type": "code",
   "execution_count": 15,
   "metadata": {},
   "outputs": [
    {
     "name": "stdout",
     "output_type": "stream",
     "text": [
      "['Computer Science Engineering', 'AutoCAD', 'Information TechNology', 'Computer Science', 'Electrical and Electronics Engineering']\n"
     ]
    }
   ],
   "source": [
    "print(recommend_course(d))"
   ]
  },
  {
   "cell_type": "code",
   "execution_count": 16,
   "metadata": {},
   "outputs": [
    {
     "name": "stdout",
     "output_type": "stream",
     "text": [
      "Enter your details :\n",
      "Enter your name :  Shreya\n",
      "Enter your gender :  Female\n",
      "Enter your interests : Biology\n",
      "Enter your skills : Biochemistry\n",
      "Did you do any certification courses additionally? : No\n",
      "Are you currently working or have you been employed before? :  No\n",
      "Are you currently pursuing masters or have you persued higher education before : No\n"
     ]
    }
   ],
   "source": [
    "d = {}\n",
    "\n",
    "# Gather user details\n",
    "print(\"Enter your details :\")\n",
    "name = input(\"Enter your name :  \")\n",
    "gender = input(\"Enter your gender :  \")\n",
    "d['UG_Course'] = ''\n",
    "d['Interest'] = input(\"Enter your interests : \")\n",
    "d['Skills'] = input(\"Enter your skills : \")\n",
    "\n",
    "d['Certification'] = input(\"Did you do any certification courses additionally? : \")\n",
    "if d['Certification'].lower() == 'yes':\n",
    "    d['Certificate_name'] = input(\"Specify your certificate course title: \")\n",
    "\n",
    "d['Working'] = input(\"Are you currently working or have you been employed before? :  \")\n",
    "if d['Working'].lower() == 'yes':\n",
    "    d['JobTitle'] = input(\"Enter your job title: \")\n",
    "    \n",
    "d['Masters'] = input(\"Are you currently pursuing masters or have you persued higher education before : \")"
   ]
  },
  {
   "cell_type": "code",
   "execution_count": 17,
   "metadata": {},
   "outputs": [
    {
     "name": "stdout",
     "output_type": "stream",
     "text": [
      "['Genetic Engineering', 'BiotechNAlogy', 'Pharmacy', 'Microbiology', 'Computer Applications']\n"
     ]
    }
   ],
   "source": [
    "print(recommend_course(d))"
   ]
  }
 ],
 "metadata": {
  "kernelspec": {
   "display_name": "Python 3 (ipykernel)",
   "language": "python",
   "name": "python3"
  },
  "language_info": {
   "codemirror_mode": {
    "name": "ipython",
    "version": 3
   },
   "file_extension": ".py",
   "mimetype": "text/x-python",
   "name": "python",
   "nbconvert_exporter": "python",
   "pygments_lexer": "ipython3",
   "version": "3.11.4"
  }
 },
 "nbformat": 4,
 "nbformat_minor": 2
}
